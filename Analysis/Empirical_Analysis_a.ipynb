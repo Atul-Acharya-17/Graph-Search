{
 "cells": [
  {
   "cell_type": "code",
   "execution_count": 1,
   "metadata": {},
   "outputs": [],
   "source": [
    "import pandas as pd\n",
    "import pickle\n",
    "import numpy as np\n",
    "import matplotlib.pyplot as plt"
   ]
  },
  {
   "cell_type": "code",
   "execution_count": 2,
   "metadata": {},
   "outputs": [
    {
     "name": "stdout",
     "output_type": "stream",
     "text": [
      "[(2.951963186264038, 1000), (4.601478576660156e-05, 10), (0.0006017684936523438, 50), (0.0041658878326416016, 100), (0.029946088790893555, 200), (0.08891701698303223, 300), (0.20859289169311523, 400), (0.3314499855041504, 500), (0.6338467597961426, 600), (0.7510828971862793, 700), (1.4600679874420166, 800), (1.5740480422973633, 900), (3.2081050872802734, 1100), (4.797329902648926, 1200), (6.068483829498291, 1400), (9.948175191879272, 1600), (12.213828086853027, 1800), (18.57573103904724, 2000), (33.30520987510681, 2500), (64.55410981178284, 3000), (89.29221725463867, 3500), (134.36977005004883, 4000), (193.63743996620178, 4500), (281.2890422344208, 5000), (498.5046820640564, 6000), (1473.1615040302277, 8000), (3451.8916618824005, 10000)]\n"
     ]
    }
   ],
   "source": [
    "data=pd.read_pickle('Empirical_Analysis_a.pkl')\n",
    "data.pop(1)\n",
    "t=[]\n",
    "print(data)\n",
    "for time in data:\n",
    "    t.append(time[0])"
   ]
  },
  {
   "cell_type": "code",
   "execution_count": 3,
   "metadata": {},
   "outputs": [
    {
     "name": "stdout",
     "output_type": "stream",
     "text": [
      "[1000, 10, 50, 100, 200, 300, 400, 500, 600, 700, 800, 900, 1100, 1200, 1400, 1600, 1800, 2000, 2500, 3000, 3500, 4000, 4500, 5000, 6000, 8000, 10000]\n"
     ]
    }
   ],
   "source": [
    "n=[]\n",
    "for nodes in data:\n",
    "    n.append(nodes[1])\n",
    "print(n)"
   ]
  },
  {
   "cell_type": "code",
   "execution_count": 4,
   "metadata": {},
   "outputs": [],
   "source": [
    "n.sort()"
   ]
  },
  {
   "cell_type": "code",
   "execution_count": 5,
   "metadata": {},
   "outputs": [],
   "source": [
    "t=sorted(t)"
   ]
  },
  {
   "cell_type": "code",
   "execution_count": 6,
   "metadata": {},
   "outputs": [],
   "source": [
    "exp_a={'Nodes': n, 'Time Taken to Find Path':t}"
   ]
  },
  {
   "cell_type": "code",
   "execution_count": 7,
   "metadata": {},
   "outputs": [],
   "source": [
    "exp_a_df=pd.DataFrame(exp_a)"
   ]
  },
  {
   "cell_type": "code",
   "execution_count": 8,
   "metadata": {},
   "outputs": [
    {
     "data": {
      "text/html": [
       "<div>\n",
       "<style scoped>\n",
       "    .dataframe tbody tr th:only-of-type {\n",
       "        vertical-align: middle;\n",
       "    }\n",
       "\n",
       "    .dataframe tbody tr th {\n",
       "        vertical-align: top;\n",
       "    }\n",
       "\n",
       "    .dataframe thead th {\n",
       "        text-align: right;\n",
       "    }\n",
       "</style>\n",
       "<table border=\"1\" class=\"dataframe\">\n",
       "  <thead>\n",
       "    <tr style=\"text-align: right;\">\n",
       "      <th></th>\n",
       "      <th>Nodes</th>\n",
       "      <th>Time Taken to Find Path</th>\n",
       "    </tr>\n",
       "  </thead>\n",
       "  <tbody>\n",
       "    <tr>\n",
       "      <td>0</td>\n",
       "      <td>10</td>\n",
       "      <td>0.000046</td>\n",
       "    </tr>\n",
       "    <tr>\n",
       "      <td>1</td>\n",
       "      <td>50</td>\n",
       "      <td>0.000602</td>\n",
       "    </tr>\n",
       "    <tr>\n",
       "      <td>2</td>\n",
       "      <td>100</td>\n",
       "      <td>0.004166</td>\n",
       "    </tr>\n",
       "    <tr>\n",
       "      <td>3</td>\n",
       "      <td>200</td>\n",
       "      <td>0.029946</td>\n",
       "    </tr>\n",
       "    <tr>\n",
       "      <td>4</td>\n",
       "      <td>300</td>\n",
       "      <td>0.088917</td>\n",
       "    </tr>\n",
       "    <tr>\n",
       "      <td>5</td>\n",
       "      <td>400</td>\n",
       "      <td>0.208593</td>\n",
       "    </tr>\n",
       "    <tr>\n",
       "      <td>6</td>\n",
       "      <td>500</td>\n",
       "      <td>0.331450</td>\n",
       "    </tr>\n",
       "    <tr>\n",
       "      <td>7</td>\n",
       "      <td>600</td>\n",
       "      <td>0.633847</td>\n",
       "    </tr>\n",
       "    <tr>\n",
       "      <td>8</td>\n",
       "      <td>700</td>\n",
       "      <td>0.751083</td>\n",
       "    </tr>\n",
       "    <tr>\n",
       "      <td>9</td>\n",
       "      <td>800</td>\n",
       "      <td>1.460068</td>\n",
       "    </tr>\n",
       "    <tr>\n",
       "      <td>10</td>\n",
       "      <td>900</td>\n",
       "      <td>1.574048</td>\n",
       "    </tr>\n",
       "    <tr>\n",
       "      <td>11</td>\n",
       "      <td>1000</td>\n",
       "      <td>2.951963</td>\n",
       "    </tr>\n",
       "    <tr>\n",
       "      <td>12</td>\n",
       "      <td>1100</td>\n",
       "      <td>3.208105</td>\n",
       "    </tr>\n",
       "    <tr>\n",
       "      <td>13</td>\n",
       "      <td>1200</td>\n",
       "      <td>4.797330</td>\n",
       "    </tr>\n",
       "    <tr>\n",
       "      <td>14</td>\n",
       "      <td>1400</td>\n",
       "      <td>6.068484</td>\n",
       "    </tr>\n",
       "    <tr>\n",
       "      <td>15</td>\n",
       "      <td>1600</td>\n",
       "      <td>9.948175</td>\n",
       "    </tr>\n",
       "    <tr>\n",
       "      <td>16</td>\n",
       "      <td>1800</td>\n",
       "      <td>12.213828</td>\n",
       "    </tr>\n",
       "    <tr>\n",
       "      <td>17</td>\n",
       "      <td>2000</td>\n",
       "      <td>18.575731</td>\n",
       "    </tr>\n",
       "    <tr>\n",
       "      <td>18</td>\n",
       "      <td>2500</td>\n",
       "      <td>33.305210</td>\n",
       "    </tr>\n",
       "    <tr>\n",
       "      <td>19</td>\n",
       "      <td>3000</td>\n",
       "      <td>64.554110</td>\n",
       "    </tr>\n",
       "    <tr>\n",
       "      <td>20</td>\n",
       "      <td>3500</td>\n",
       "      <td>89.292217</td>\n",
       "    </tr>\n",
       "    <tr>\n",
       "      <td>21</td>\n",
       "      <td>4000</td>\n",
       "      <td>134.369770</td>\n",
       "    </tr>\n",
       "    <tr>\n",
       "      <td>22</td>\n",
       "      <td>4500</td>\n",
       "      <td>193.637440</td>\n",
       "    </tr>\n",
       "    <tr>\n",
       "      <td>23</td>\n",
       "      <td>5000</td>\n",
       "      <td>281.289042</td>\n",
       "    </tr>\n",
       "    <tr>\n",
       "      <td>24</td>\n",
       "      <td>6000</td>\n",
       "      <td>498.504682</td>\n",
       "    </tr>\n",
       "    <tr>\n",
       "      <td>25</td>\n",
       "      <td>8000</td>\n",
       "      <td>1473.161504</td>\n",
       "    </tr>\n",
       "    <tr>\n",
       "      <td>26</td>\n",
       "      <td>10000</td>\n",
       "      <td>3451.891662</td>\n",
       "    </tr>\n",
       "  </tbody>\n",
       "</table>\n",
       "</div>"
      ],
      "text/plain": [
       "    Nodes  Time Taken to Find Path\n",
       "0      10                 0.000046\n",
       "1      50                 0.000602\n",
       "2     100                 0.004166\n",
       "3     200                 0.029946\n",
       "4     300                 0.088917\n",
       "5     400                 0.208593\n",
       "6     500                 0.331450\n",
       "7     600                 0.633847\n",
       "8     700                 0.751083\n",
       "9     800                 1.460068\n",
       "10    900                 1.574048\n",
       "11   1000                 2.951963\n",
       "12   1100                 3.208105\n",
       "13   1200                 4.797330\n",
       "14   1400                 6.068484\n",
       "15   1600                 9.948175\n",
       "16   1800                12.213828\n",
       "17   2000                18.575731\n",
       "18   2500                33.305210\n",
       "19   3000                64.554110\n",
       "20   3500                89.292217\n",
       "21   4000               134.369770\n",
       "22   4500               193.637440\n",
       "23   5000               281.289042\n",
       "24   6000               498.504682\n",
       "25   8000              1473.161504\n",
       "26  10000              3451.891662"
      ]
     },
     "execution_count": 8,
     "metadata": {},
     "output_type": "execute_result"
    }
   ],
   "source": [
    "exp_a_df"
   ]
  },
  {
   "cell_type": "code",
   "execution_count": 9,
   "metadata": {},
   "outputs": [
    {
     "data": {
      "image/png": "[encoded data removed]",
      "text/plain": [
       "<Figure size 432x288 with 1 Axes>"
      ]
     },
     "metadata": {
      "needs_background": "light"
     },
     "output_type": "display_data"
    }
   ],
   "source": [
    "plt.plot(exp_a_df['Nodes'],exp_a_df['Time Taken to Find Path'])\n",
    "plt.title('Experimental Analysis')\n",
    "plt.xlabel('Nodes')\n",
    "plt.ylabel('Time Taken To Find Path')\n",
    "plt.show()"
   ]
  }
 ],
 "metadata": {
  "kernelspec": {
   "display_name": "Python 3",
   "language": "python",
   "name": "python3"
  },
  "language_info": {
   "codemirror_mode": {
    "name": "ipython",
    "version": 3
   },
   "file_extension": ".py",
   "mimetype": "text/x-python",
   "name": "python",
   "nbconvert_exporter": "python",
   "pygments_lexer": "ipython3",
   "version": "3.7.4"
  }
 },
 "nbformat": 4,
 "nbformat_minor": 2
}
